{
 "cells": [
  {
   "cell_type": "code",
   "execution_count": 6,
   "id": "42534f43",
   "metadata": {},
   "outputs": [],
   "source": [
    "from matplotlib.ticker import MaxNLocator\n",
    "import matplotlib.pyplot as plt\n",
    "import numpy as np\n",
    "import matplotlib\n",
    "import matplotlib.colors as mcolors\n",
    "from scipy.stats import bootstrap\n",
    "import random as rd\n",
    "from file_helper import load_all_files\n",
    "# sketchy way of figuring out if latex is installed, might fail.\n",
    "# If it does, comment out\n",
    "from distutils.spawn import find_executable\n",
    "from itertools import cycle\n",
    "import os\n",
    "import pickle as pk\n"
   ]
  },
  {
   "cell_type": "code",
   "execution_count": 7,
   "id": "0e87d646",
   "metadata": {},
   "outputs": [
    {
     "name": "stdout",
     "output_type": "stream",
     "text": [
      "['#1f77b4', '#ff7f0e', '#2ca02c', '#d62728', '#9467bd', '#8c564b', '#e377c2', '#7f7f7f', '#bcbd22', '#17becf']\n"
     ]
    }
   ],
   "source": [
    "if find_executable('latex'):\n",
    "    matplotlib.rcParams['text.usetex'] = True\n",
    "\n",
    "font = {'family': 'normal',\n",
    "        'weight': 'normal',\n",
    "        'size': 12}\n",
    "\n",
    "\n",
    "matplotlib.rc('font', **font)\n",
    "cycle = list(mcolors.TABLEAU_COLORS.values())\n",
    "print(cycle)\n",
    "\n",
    "\n",
    "def get_color(i):\n",
    "    if i >= len(cycle):\n",
    "        return cycle[i % len(cycle)]\n",
    "    else:\n",
    "        return cycle[i]\n",
    "\n",
    "\n",
    "def get_ci(trials):\n",
    "    ci = bootstrap((trials,), np.mean, confidence_level=0.9, random_state=0)\n",
    "    return ci.confidence_interval\n",
    "\n",
    "\n",
    "def plot_stat(title, xlabel, ylabel):\n",
    "    # my hunch is to wrap this in another for loop -- need to make sure it still runs without it\n",
    "    # if there is only one m you want to work with, you need to provide a dictionary with that singe m in it -- constraint\n",
    "    # print(\"x\", x)\n",
    "    # print(\"dict_y\", dict_y)\n",
    "    # put_on_plot(x, dict_y)\n",
    "\n",
    "    SMALL_SIZE = 5\n",
    "    matplotlib.rcParams.update({'font.size': 14})\n",
    "    \n",
    "    \n",
    "    '''\n",
    "    plt.rc('font', size=SMALL_SIZE)          # controls default text sizes\n",
    "    plt.rc('axes', titlesize=SMALL_SIZE)     # fontsize of the axes title\n",
    "    plt.rc('axes', labelsize=SMALL_SIZE)    # fontsize of the x and y labels\n",
    "    plt.rc('xtick', labelsize=5)    # fontsize of the tick labels\n",
    "    plt.rc('ytick', labelsize=SMALL_SIZE)    # fontsize of the tick labels\n",
    "    plt.rc('legend', fontsize=SMALL_SIZE)    # legend fontsize\n",
    "    plt.rc('figure', titlesize=SMALL_SIZE)  # fontsize of the figure title\n",
    "    '''\n",
    "\n",
    "    # idea to break this up here....\n",
    "    # essentially invoke part 1 multiple times and then invoke part 2 as below\n",
    "    plt.legend()\n",
    "    plt.xlabel(xlabel)\n",
    "    plt.ylabel(ylabel)\n",
    "    plt.tight_layout()\n",
    "    plt.savefig(title)\n",
    "    plt.close()"
   ]
  },
  {
   "cell_type": "code",
   "execution_count": 8,
   "id": "7bee05f2",
   "metadata": {},
   "outputs": [],
   "source": [
    "# x = [1,2,3] dict_y = {label:[[3,3,2],[4,5,4],[5,5,5]]}\n",
    "def put_on_plot(x, dict_y, label_dict=None):\n",
    "    for i, (key, val) in enumerate(dict_y.items()):\n",
    "        if label_dict is not None:\n",
    "            key = label_dict[key]\n",
    "        color = get_color(i)\n",
    "        if type(val[0]) is list and len(val[0]) > 1:\n",
    "            all_trials = val\n",
    "            y = [np.mean(trials) for trials in all_trials]\n",
    "\n",
    "            plt.plot(x, y, color=color, label=key)\n",
    "            try:\n",
    "                all_ci = [get_ci(trials) for trials in all_trials]\n",
    "                ci_over = [ci.high for i, ci in enumerate(all_ci)]\n",
    "                ci_under = [ci.low for i, ci in enumerate(all_ci)]\n",
    "                plt.fill_between(x, ci_under, ci_over, color=color, alpha=.1)\n",
    "            except:\n",
    "                print('couldnt do the ci', all_trials[0])\n",
    "        else:\n",
    "            print(x)\n",
    "            print(val)\n",
    "            plt.plot(x, val, color=color, label=key)\n",
    "    \n",
    "    plt.xticks(x, [str(i) for i in x])"
   ]
  },
  {
   "cell_type": "code",
   "execution_count": 9,
   "id": "a3379fce",
   "metadata": {},
   "outputs": [],
   "source": [
    "\n",
    "def put_plot_rank(filepath, x, dict_y, label_dict=None):\n",
    "    # set width of bar\n",
    "    barWidth = 0.2\n",
    "    position = np.arange(len(list(dict_y.keys())))\n",
    "    who_passed = [1 for _ in position]\n",
    "    for j, B in enumerate(x):\n",
    "        color = get_color(j)\n",
    "        position = [i + barWidth for i in position]\n",
    "        fraction_test_passed = list([1 - np.mean(val[j])\n",
    "                                    for val in dict_y.values()])\n",
    "        who_passes = []\n",
    "        for k, previously in enumerate(who_passed):\n",
    "            if fraction_test_passed[k] > previously:\n",
    "                who_passes.append(previously)\n",
    "            else:\n",
    "                who_passes.append(fraction_test_passed[k])\n",
    "\n",
    "        plt.bar(position, who_passes, color=color, width=barWidth,\n",
    "                edgecolor='grey', label=r'k='+str(B))\n",
    "        who_passed = who_passes\n",
    "    plt.xticks([r + barWidth for r in range(len(list(dict_y.keys())))],\n",
    "               list(dict_y.keys()), fontsize=18)\n",
    "    import matplotlib.font_manager as font_manager\n",
    "    # Adding Xticks\n",
    "    plt.xlabel('Generative models', fontsize=18)\n",
    "    plt.ylabel('Percentage of trials that passed', fontsize=18)\n",
    "\n",
    "    font = font_manager.FontProperties(style='normal', size=18)\n",
    "    plt.legend(prop=font)\n",
    "    plt.tight_layout()\n",
    "    plt.savefig(filepath)\n",
    "    plt.close()"
   ]
  },
  {
   "cell_type": "code",
   "execution_count": 10,
   "id": "0bbc0750",
   "metadata": {},
   "outputs": [
    {
     "name": "stderr",
     "output_type": "stream",
     "text": [
      "/home/floregol/miniconda3/lib/python3.9/site-packages/scipy/stats/_bootstrap.py:100: RuntimeWarning: invalid value encountered in double_scalars\n",
      "  a_hat = num / den\n"
     ]
    },
    {
     "name": "stdout",
     "output_type": "stream",
     "text": [
      "couldnt do the ci [-0.39999999999999997, -0.6, -0.6, -0.6, -0.39999999999999997, -0.6, -0.6, -0.39999999999999997, -0.39999999999999997, -0.6]\n"
     ]
    }
   ],
   "source": [
    "path_dir = 'results'\n",
    "list_files = load_all_files(path_dir)\n",
    "\n",
    "for file in list_files:\n",
    "    file_name = file.split('.')[0]\n",
    "    with open(os.path.join(path_dir, file), 'rb') as f:  # load the data\n",
    "            data = pk.load(f)\n",
    "    tokens = file.split('_')\n",
    "    prefix = tokens[:6]\n",
    "    type_file = tokens[6:]\n",
    "    type_file = type_file[:-1] + [type_file[-1].split('.')[0]]\n",
    "    \n",
    "    if type_file[0] == 'ranking':\n",
    "        put_on_plot(data['x'], data['data'], data['label_dict'])\n",
    "        plot_stat(os.path.join('figures',file_name+'.pdf'), r'granularity level $k$', r'Kendall rank correlation coefficient')\n",
    "\n",
    "    elif type_file[0] == 'S':\n",
    "        put_on_plot(data['x'], data['data'])\n",
    "        plot_stat(os.path.join('figures',file_name+'.pdf'), 'Bins', 'algo')\n",
    "    elif type_file[0] == 'hypothesis':\n",
    "        put_plot_rank(os.path.join('figures',file_name+'.pdf'), data['x'], data['data'])\n",
    "        \n",
    "   "
   ]
  },
  {
   "cell_type": "code",
   "execution_count": null,
   "id": "4e965395",
   "metadata": {},
   "outputs": [],
   "source": []
  }
 ],
 "metadata": {
  "kernelspec": {
   "display_name": "Python 3",
   "language": "python",
   "name": "python3"
  },
  "language_info": {
   "codemirror_mode": {
    "name": "ipython",
    "version": 3
   },
   "file_extension": ".py",
   "mimetype": "text/x-python",
   "name": "python",
   "nbconvert_exporter": "python",
   "pygments_lexer": "ipython3",
   "version": "3.9.5"
  }
 },
 "nbformat": 4,
 "nbformat_minor": 5
}
