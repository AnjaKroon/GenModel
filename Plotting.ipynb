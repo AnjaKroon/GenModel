{
 "cells": [
  {
   "cell_type": "code",
   "execution_count": 73,
   "id": "42534f43",
   "metadata": {},
   "outputs": [],
   "source": [
    "from matplotlib.ticker import MaxNLocator\n",
    "import matplotlib.pyplot as plt\n",
    "import numpy as np\n",
    "import matplotlib\n",
    "import matplotlib.colors as mcolors\n",
    "from scipy.stats import bootstrap\n",
    "import random as rd\n",
    "from file_helper import load_all_files, create_prefix_from_list\n",
    "from distutils.spawn import find_executable\n",
    "from itertools import cycle\n",
    "import os\n",
    "import pickle as pk\n",
    "from statistic.generate_statistics import genSstat, get_ranking_results, reject_if_bad_test\n",
    "from plotting import plot_stat, put_plot_rank, get_color\n",
    "from test_distribution import float_to_print\n",
    "from table_helper import build_latex_table"
   ]
  },
  {
   "cell_type": "code",
   "execution_count": 92,
   "id": "0e87d646",
   "metadata": {},
   "outputs": [
    {
     "name": "stdout",
     "output_type": "stream",
     "text": [
      "found\n"
     ]
    }
   ],
   "source": [
    "path_dir = 'results'\n",
    "\n",
    "\n",
    "power_base = 10\n",
    "U = power_base**power_base\n",
    "m_per_splits = 10000\n",
    "init_e = 0.05\n",
    "init_b = 0.5\n",
    "splits = 10\n",
    "S = 4\n",
    "ratio = 5\n",
    "distribution_type = 'STAIRS'  # STAIRS\n",
    "TYPE = 'SHARP'\n",
    "experiment = \"SYNTH\"\n",
    "prefix = create_prefix_from_list(\n",
    "        {'exp': experiment+TYPE, 'U': U, 'm_per_splits': m_per_splits, 'splits': splits, 'S': S, 'ratio': ratio, 'b': init_b, 'e': init_e})      \n",
    "list_files = load_all_files(path_dir)\n",
    "file_to_load = prefix\n",
    "\n",
    "for file in list_files:\n",
    "    file_name = file.split('.pk')[0]\n",
    "    \n",
    "    if file_to_load in file_name:\n",
    "        print('found')\n",
    "        with open(os.path.join(path_dir, file), 'rb') as f:  # load the data\n",
    "                data = pk.load(f)\n",
    "                data = data['data']"
   ]
  },
  {
   "cell_type": "code",
   "execution_count": 93,
   "id": "8670356e",
   "metadata": {},
   "outputs": [
    {
     "data": {
      "text/plain": [
       "dict_keys(['S', 'test', 'binning', 'A', 'nll', 'e', 'std_nll', 'l1'])"
      ]
     },
     "execution_count": 93,
     "metadata": {},
     "output_type": "execute_result"
    }
   ],
   "source": [
    "data.keys()"
   ]
  },
  {
   "cell_type": "code",
   "execution_count": 94,
   "id": "bd720b48",
   "metadata": {},
   "outputs": [],
   "source": [
    "list_of_title_q = list(data['A'].keys())"
   ]
  },
  {
   "cell_type": "code",
   "execution_count": 95,
   "id": "7bee05f2",
   "metadata": {},
   "outputs": [
    {
     "data": {
      "image/png": "[encoded data removed]",
      "text/plain": [
       "<Figure size 432x288 with 1 Axes>"
      ]
     },
     "metadata": {
      "needs_background": "light"
     },
     "output_type": "display_data"
    }
   ],
   "source": [
    "maxvalue = 0\n",
    "for q_index, q_name in enumerate(list_of_title_q):\n",
    "    \n",
    "    emp_l1_for_all_B = data['A'][q_name]\n",
    "    for B, A_trials in emp_l1_for_all_B.items():\n",
    "       \n",
    "        x = [np.mean(A_trials)]\n",
    "        y = [B+q_index*0.1]         \n",
    "        errors = np.mean(data['e'][q_name][B])\n",
    "        \n",
    "        plt.errorbar(x, y, xerr=errors, fmt = 'o', color=get_color(q_index))\n",
    "        maxvalue = max(maxvalue, (x+errors)*1.1)\n",
    "plt.axvline(x=errors, color='k')\n",
    "plt.xlim((0,maxvalue))\n",
    "plt.ylabel('A')\n",
    "plt.xlabel('TV')\n",
    "plt.savefig(file_to_load+'A.pdf')\n",
    "plt.show()\n",
    "# print(q_index)\n",
    "# print(len(list_of_title_q))\n",
    "# y_positions = [i for i in range(q_index+1)]\n",
    "# plt.yticks(y_positions, ['']+list_of_title_q+['']) \n",
    "\n",
    "# # plt.savefig(file_to_load+'A.pdf')\n",
    "# plt.show()"
   ]
  },
  {
   "cell_type": "code",
   "execution_count": 96,
   "id": "a3379fce",
   "metadata": {},
   "outputs": [
    {
     "name": "stdout",
     "output_type": "stream",
     "text": [
      "              nll     $B_5$   $B_6$   $B_7$   $B_8$   $B_9$   $B_10$\n",
      "====================================================================\n",
      "$q_{0.00}$   22.789   0.002   0.002   0.003   0.003   0.003   0.003 \n",
      "$q_{0.05}$   22.795   0.025   0.025   0.025   0.025   0.025   0.025 \n",
      "$q_{0.07}$   22.802   0.036   0.036   0.036   0.036   0.036   0.036 \n",
      "$q_{0.10}$   22.812   0.050   0.050   0.050   0.050   0.050   0.050 \n",
      "\n",
      "Latextable Output:\n",
      "\\begin{table}\n",
      "\t\\begin{center}\n",
      "\t\t\\begin{tabular}{lccccccc}\n",
      "\t\t\t & nll & $B_5$ & $B_6$ & $B_7$ & $B_8$ & $B_9$ & $B_10$ \\\\\n",
      "\t\t\t\\hline\n",
      "\t\t\t$q_{0.00}$ & 22.789 & 0.002 & 0.002 & 0.003 & 0.003 & 0.003 & 0.003 \\\\\n",
      "\t\t\t$q_{0.05}$ & 22.795 & 0.025 & 0.025 & 0.025 & 0.025 & 0.025 & 0.025 \\\\\n",
      "\t\t\t$q_{0.07}$ & 22.802 & 0.036 & 0.036 & 0.036 & 0.036 & 0.036 & 0.036 \\\\\n",
      "\t\t\t$q_{0.10}$ & 22.812 & 0.050 & 0.050 & 0.050 & 0.050 & 0.050 & 0.050 \\\\\n",
      "\t\t\\end{tabular}\n",
      "\t\\end{center}\n",
      "\t\\caption{SHARP$\\Omega$=10000000000 m=100000 S:4}\n",
      "\t\\label{exp:SYNTHSHARP_U:10000000000_m_per_splits:10000_splits:10_S:4_ratio:5_b:0.50_e:0.05}\n",
      "\\end{table}\n"
     ]
    }
   ],
   "source": [
    "def format_name(q_name):\n",
    "    epsilon = q_name.split(' ')[1]\n",
    "    string = '$q_{{{:.2f}}}$'.format(float(epsilon))\n",
    "    return string\n",
    "rows = []\n",
    "for q_name in list_of_title_q:\n",
    "#     values = [float_to_print(np.mean(data['nll'][q_name])) +\n",
    "#               '$\\pm$' + float_to_print(data['std_nll'][q_name])\n",
    "    values = [float_to_print(np.mean(data['nll'][q_name])) ]\n",
    "    for key, val in data['A'][q_name].items():\n",
    "        #std = np.mean((store_results['e'][q_name][key]))\n",
    "        std = np.std(val)\n",
    "\n",
    "#         values.append(float_to_print(np.mean(val)) +\n",
    "#                       '$\\pm$' + float_to_print(std))\n",
    "        values.append(float_to_print(np.mean(val)))\n",
    "        # values.append(float_to_print(np.mean(store_results['l1'][q_name][key])))\n",
    "    rows.append([format_name(q_name)] + values)\n",
    "top = [''] + ['nll']\n",
    "for B in data['A'][q_name].keys():\n",
    "    top = top + ['$B_'+str(B)+'$']\n",
    "    #top = top + [ '$tv$']\n",
    "build_latex_table([top]+rows, caption=TYPE + '$\\Omega$=' +str(U)+ \" m=\"+ str( m_per_splits*splits)+ ' S:'+str(S), label=prefix)"
   ]
  },
  {
   "cell_type": "code",
   "execution_count": null,
   "id": "ede62034",
   "metadata": {},
   "outputs": [],
   "source": []
  },
  {
   "cell_type": "code",
   "execution_count": null,
   "id": "cb9e98b4",
   "metadata": {},
   "outputs": [],
   "source": []
  },
  {
   "cell_type": "code",
   "execution_count": null,
   "id": "da3f5702",
   "metadata": {},
   "outputs": [],
   "source": []
  }
 ],
 "metadata": {
  "kernelspec": {
   "display_name": "Python 3",
   "language": "python",
   "name": "python3"
  },
  "language_info": {
   "codemirror_mode": {
    "name": "ipython",
    "version": 3
   },
   "file_extension": ".py",
   "mimetype": "text/x-python",
   "name": "python",
   "nbconvert_exporter": "python",
   "pygments_lexer": "ipython3",
   "version": "3.9.5"
  }
 },
 "nbformat": 4,
 "nbformat_minor": 5
}
