{
 "cells": [
  {
   "cell_type": "code",
   "execution_count": 15,
   "id": "42534f43",
   "metadata": {},
   "outputs": [],
   "source": [
    "from matplotlib.ticker import MaxNLocator\n",
    "import matplotlib.pyplot as plt\n",
    "import numpy as np\n",
    "import matplotlib\n",
    "import matplotlib.colors as mcolors\n",
    "from scipy.stats import bootstrap\n",
    "import random as rd\n",
    "from file_helper import load_all_files\n",
    "# sketchy way of figuring out if latex is installed, might fail.\n",
    "# If it does, comment out\n",
    "from distutils.spawn import find_executable\n",
    "from itertools import cycle\n",
    "import os\n",
    "import pickle as pk\n"
   ]
  },
  {
   "cell_type": "code",
   "execution_count": 16,
   "id": "0e87d646",
   "metadata": {},
   "outputs": [
    {
     "name": "stdout",
     "output_type": "stream",
     "text": [
      "['GEN_46656_10000_2_2_3_S_algo.pk', 'GEN_46656_10000_10_2_3_ranking.pk', 'SYNTH_46656_1000_50_3_2_binning_algo.pk', 'SYNTH_46656_1000_50_3_2_ranking.pk', 'SYNTH_46656_1000_50_3_2_hypothesis_algo.pk', 'GEN_46656_10000_10_2_3_hypothesis_algo.pk', 'GEN_10000000000_10000_2_2_3_S_algo.pk', 'GEN_46656_10000_2_2_3_hypothesis_algo.pk', 'GEN_46656_10000_10_2_3_S_algo.pk', 'GEN_46656_10000_2_2_3_ranking.pk', 'GEN_10000000000_10000_2_2_3_ranking.pk', 'GEN_10000000000_10000_2_2_3_hypothesis_algo.pk', 'GEN_10000000000_10000_2_2_3_binning_algo.pk', 'SYNTH_46656_1000_50_3_2_S_algo.pk']\n",
      "SYNTH_46656_1000_50_3_2_binning_algo\n",
      "GEN_10000000000_10000_2_2_3_binning_algo\n"
     ]
    }
   ],
   "source": [
    "path_dir = 'results'\n",
    "list_files = load_all_files(path_dir)\n",
    "print(list_files)\n",
    "for file in list_files:\n",
    "    file_name = file.split('.')[0]\n",
    "    if 'binning' in file_name:\n",
    "        print(file_name)\n",
    "        with open(os.path.join(path_dir, file), 'rb') as f:  # load the data\n",
    "                data = pk.load(f)"
   ]
  },
  {
   "cell_type": "code",
   "execution_count": 17,
   "id": "7bee05f2",
   "metadata": {},
   "outputs": [
    {
     "data": {
      "text/plain": [
       "['ground truth']"
      ]
     },
     "execution_count": 17,
     "metadata": {},
     "output_type": "execute_result"
    }
   ],
   "source": [
    "baseline_name = list(data['data'].keys())\n",
    "baseline_name"
   ]
  },
  {
   "cell_type": "code",
   "execution_count": 20,
   "id": "a3379fce",
   "metadata": {},
   "outputs": [
    {
     "data": {
      "text/plain": [
       "[[{'p': [0.7500000000153644, 0.2500000000107812, 0],\n",
       "   'q': [0.7523999999999335, 0.24759999999998905, 7.749356711883593e-14]},\n",
       "  {'p': [0.7500000000153644, 0.2500000000107812, 0],\n",
       "   'q': [0.747999999999934, 0.25199999999998857, 7.738254481637341e-14]}],\n",
       " [{'p': [0.7468944279251288, 0.003105572089946579, 0.24965911597194884, 0],\n",
       "   'q': [0, 0.7523999999999335, 0, 7.749356711883593e-14]},\n",
       "  {'p': [0.7469146825547603, 0.003085317460316959, 0.249653053361719, 0],\n",
       "   'q': [0, 0.747999999999934, 0, 7.738254481637341e-14]}],\n",
       " [{'p': [0.7468944279251288,\n",
       "    0.003105572089946579,\n",
       "    0.24965911597194884,\n",
       "    0.0003408840388007138,\n",
       "    0],\n",
       "   'q': [0,\n",
       "    0.7523999999999335,\n",
       "    0,\n",
       "    0.24759999999998905,\n",
       "    7.749356711883593e-14]},\n",
       "  {'p': [0.7469146825547603,\n",
       "    0.003085317460316959,\n",
       "    0.249653053361719,\n",
       "    0.0003469466490299909,\n",
       "    0],\n",
       "   'q': [0,\n",
       "    0.747999999999934,\n",
       "    0,\n",
       "    0.25199999999998857,\n",
       "    7.738254481637341e-14]}],\n",
       " [{'p': [0.7468944279251288,\n",
       "    0.003105572089946579,\n",
       "    0.24965911597194884,\n",
       "    0.0003408840388007138,\n",
       "    0,\n",
       "    0],\n",
       "   'q': [0,\n",
       "    0.7523999999999335,\n",
       "    0,\n",
       "    0.24759999999998905,\n",
       "    0,\n",
       "    7.749356711883593e-14]},\n",
       "  {'p': [0.7469146825547603,\n",
       "    0.003085317460316959,\n",
       "    0.249653053361719,\n",
       "    0.0003469466490299909,\n",
       "    0,\n",
       "    0],\n",
       "   'q': [0,\n",
       "    0.747999999999934,\n",
       "    0,\n",
       "    0.25199999999998857,\n",
       "    0,\n",
       "    7.738254481637341e-14]}]]"
      ]
     },
     "execution_count": 20,
     "metadata": {},
     "output_type": "execute_result"
    }
   ],
   "source": [
    "data['data'][baseline_name[0]]"
   ]
  },
  {
   "cell_type": "code",
   "execution_count": null,
   "id": "fbc76b11",
   "metadata": {},
   "outputs": [],
   "source": [
    "\n",
    "        "
   ]
  },
  {
   "cell_type": "code",
   "execution_count": null,
   "id": "0bbc0750",
   "metadata": {},
   "outputs": [],
   "source": [
    "\n"
   ]
  },
  {
   "cell_type": "code",
   "execution_count": null,
   "id": "4e965395",
   "metadata": {},
   "outputs": [],
   "source": []
  },
  {
   "cell_type": "code",
   "execution_count": null,
   "id": "91685906",
   "metadata": {},
   "outputs": [],
   "source": []
  },
  {
   "cell_type": "code",
   "execution_count": null,
   "id": "50623506",
   "metadata": {},
   "outputs": [],
   "source": []
  },
  {
   "cell_type": "code",
   "execution_count": null,
   "id": "b5d4cf46",
   "metadata": {},
   "outputs": [],
   "source": []
  }
 ],
 "metadata": {
  "kernelspec": {
   "display_name": "Python 3",
   "language": "python",
   "name": "python3"
  },
  "language_info": {
   "codemirror_mode": {
    "name": "ipython",
    "version": 3
   },
   "file_extension": ".py",
   "mimetype": "text/x-python",
   "name": "python",
   "nbconvert_exporter": "python",
   "pygments_lexer": "ipython3",
   "version": "3.9.5"
  }
 },
 "nbformat": 4,
 "nbformat_minor": 5
}
