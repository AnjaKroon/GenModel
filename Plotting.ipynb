{
 "cells": [
  {
   "cell_type": "code",
   "execution_count": 58,
   "id": "42534f43",
   "metadata": {},
   "outputs": [],
   "source": [
    "from matplotlib.ticker import MaxNLocator\n",
    "import matplotlib.pyplot as plt\n",
    "import numpy as np\n",
    "import matplotlib\n",
    "import scipy\n",
    "import matplotlib.colors as mcolors\n",
    "from scipy.stats import bootstrap\n",
    "import random as rd\n",
    "from file_helper import load_all_files, create_prefix_from_list\n",
    "from distutils.spawn import find_executable\n",
    "from itertools import cycle\n",
    "import os\n",
    "from sklearn.linear_model import LinearRegression\n",
    "\n",
    "import pickle as pk\n",
    "from statistic.generate_statistics import genSstat, get_ranking_results, reject_if_bad_test\n",
    "from plotting import plot_stat, put_plot_rank, get_color\n",
    "from test_distribution import float_to_print\n",
    "from table_helper import build_latex_table"
   ]
  },
  {
   "cell_type": "code",
   "execution_count": 59,
   "id": "0e87d646",
   "metadata": {},
   "outputs": [
    {
     "name": "stdout",
     "output_type": "stream",
     "text": [
      "found exp:GENSHARP_U:46656_m_per_splits:10000_splits:10_S:2_ratio:3\n"
     ]
    }
   ],
   "source": [
    "path_dir = 'results'\n",
    "\n",
    "# experiment  = 'SYNTH'     \n",
    "# power_base = 10\n",
    "# U = power_base**power_base\n",
    "# m_per_splits = 10000\n",
    "# init_e = 0.05\n",
    "# init_b = 0.3\n",
    "# splits = 10\n",
    "# S = 4\n",
    "# ratio = 5\n",
    "# distribution_type = 'STAIRS'  # STAIRS\n",
    "# TYPE = 'FLAT'\n",
    "# prefix = create_prefix_from_list(\n",
    "#        {'exp': experiment+TYPE, 'U': U, 'm_per_splits': m_per_splits, 'splits': splits, 'S': S, 'ratio': ratio, 'b': init_b, 'e': init_e})      \n",
    "\n",
    "experiment  = 'GEN'\n",
    "power_base = 6\n",
    "U = power_base**power_base\n",
    "m_per_splits = 10000\n",
    "S = 2\n",
    "TYPE = 'SHARP'\n",
    "ratio = 3\n",
    "splits = 10\n",
    "prefix = create_prefix_from_list(\n",
    "        {'exp': experiment+TYPE, 'U': U, 'm_per_splits': m_per_splits, 'splits': splits, 'S': S, 'ratio': ratio})      \n",
    "\n",
    "experiment = \"GEN\"\n",
    "\n",
    "list_files = load_all_files(path_dir)\n",
    "file_to_load = prefix\n",
    "\n",
    "for file in list_files:\n",
    "    file_name = file.split('.pk')[0]\n",
    "    \n",
    "    if file_to_load in file_name:\n",
    "        print('found', file_to_load)\n",
    "        with open(os.path.join(path_dir, file), 'rb') as f:  # load the data\n",
    "                data = pk.load(f)\n",
    "                data = data['data']"
   ]
  },
  {
   "cell_type": "code",
   "execution_count": 60,
   "id": "8670356e",
   "metadata": {},
   "outputs": [
    {
     "data": {
      "text/plain": [
       "dict_keys(['S', 'test', 'binning', 'A', 'nll', 'e', 'std_nll', 'l1'])"
      ]
     },
     "execution_count": 60,
     "metadata": {},
     "output_type": "execute_result"
    }
   ],
   "source": [
    "data.keys()"
   ]
  },
  {
   "cell_type": "code",
   "execution_count": null,
   "id": "3957fad3",
   "metadata": {},
   "outputs": [],
   "source": []
  },
  {
   "cell_type": "code",
   "execution_count": 61,
   "id": "bd720b48",
   "metadata": {},
   "outputs": [],
   "source": [
    "list_of_title_q = list(data['A'].keys())\n",
    "def format_name(q_name):\n",
    "    if experiment == 'SYNTH':\n",
    "        epsilon = q_name.split(' ')[1]\n",
    "        if float(epsilon) ==0:\n",
    "            return '$p$'\n",
    "        string = '$q_{{{:.2f}}}$'.format(float(epsilon))\n",
    "        return string\n",
    "    else:\n",
    "        return q_name\n"
   ]
  },
  {
   "cell_type": "code",
   "execution_count": 62,
   "id": "7bee05f2",
   "metadata": {},
   "outputs": [
    {
     "name": "stdout",
     "output_type": "stream",
     "text": [
      "0.009297234099330148\n",
      "0.009297234099330148\n",
      "0.009297234099330148\n",
      "0.009297234099330148\n",
      "0.009297234099330148\n",
      "0.009297234099330148\n",
      "0.009297234099330148\n",
      "0.009297234099330148\n",
      "0.009297234099330148\n",
      "0.009297234099330148\n",
      "0.009297234099330148\n",
      "0.009297234099330148\n",
      "0.009297234099330148\n",
      "0.009297234099330148\n",
      "0.009297234099330148\n",
      "0.009297234099330148\n",
      "0.009297234099330148\n",
      "0.009297234099330148\n",
      "0.009297234099330148\n",
      "0.009297234099330148\n",
      "0.009297234099330148\n",
      "0.009297234099330148\n",
      "0.009297234099330148\n",
      "0.009297234099330148\n",
      "0.009297234099330148\n",
      "0.009297234099330148\n",
      "0.009297234099330148\n",
      "0.009297234099330148\n",
      "0.009297234099330148\n",
      "0.009297234099330148\n"
     ]
    },
    {
     "data": {
      "image/png": "[encoded data removed]",
      "text/plain": [
       "<Figure size 432x288 with 1 Axes>"
      ]
     },
     "metadata": {
      "needs_background": "light"
     },
     "output_type": "display_data"
    }
   ],
   "source": [
    "maxvalue = 0\n",
    "for q_index, q_name in enumerate(list_of_title_q):\n",
    "    \n",
    "    emp_l1_for_all_B = data['A'][q_name]\n",
    "    first = True\n",
    "    for B, A_trials in emp_l1_for_all_B.items():\n",
    "       \n",
    "        x = [np.mean(A_trials)]\n",
    "        y = [B+q_index*0.1]         \n",
    "        errors = np.mean(data['e'][q_name][B])\n",
    "        print(errors)\n",
    "        if first:\n",
    "            first = False\n",
    "            plt.errorbar(x, y, xerr=errors*2, fmt = 'o', color=get_color(q_index), label=format_name(q_name))\n",
    "        else:\n",
    "            plt.errorbar(x, y, xerr=errors*2, fmt = 'o', color=get_color(q_index))\n",
    "        maxvalue = max(maxvalue, (x+errors)*1.1)\n",
    "plt.axvline(x=errors, color='k')\n",
    "plt.xlim((0,maxvalue))\n",
    "plt.ylabel('$|\\mathcal{B}|$')\n",
    "plt.xlabel('$B$')\n",
    "plt.legend()\n",
    "plt.show()\n",
    "plt.savefig(file_to_load+'B.pdf')\n",
    "\n",
    "plt.close()\n",
    "# print(q_index)\n",
    "# print(len(list_of_title_q))\n",
    "# y_positions = [i for i in range(q_index+1)]\n",
    "# plt.yticks(y_positions, ['']+list_of_title_q+['']) \n",
    "\n",
    "# # plt.savefig(file_to_load+'A.pdf')\n",
    "# plt.show()"
   ]
  },
  {
   "cell_type": "code",
   "execution_count": null,
   "id": "79187df1",
   "metadata": {},
   "outputs": [],
   "source": []
  },
  {
   "cell_type": "code",
   "execution_count": 63,
   "id": "a3379fce",
   "metadata": {},
   "outputs": [
    {
     "name": "stdout",
     "output_type": "stream",
     "text": [
      "[['argmaxAR', '6.66*', '7.28*', '7.90*', '8.40*', '8.78*', '8.90*', array([0.46348629])], ['FCDM', '3.89*', '4.36*', '4.70*', '4.98*', '5.20*', '5.32*', array([0.28351238])], ['CNF', '27.70*', '27.70*', '27.70*', '27.70*', '27.70*', '27.70*', array([-1.58603289e-16])], ['CDM', '10.14*', '10.14*', '10.14*', '10.14*', '10.14*', '10.16*', array([0.00252419])], ['ground truth', '0.24', '0.24', '0.28', '0.32', '0.36', '0.40', array([0.03442819])]]\n",
      "               $B_3$    $B_4$    $B_5$    $B_6$    $B_7$    $B_8$    slope \n",
      "===========================================================================\n",
      "argmaxAR       6.66*    7.28*    7.90*    8.40*    8.78*    8.90*    0.463 \n",
      "FCDM           3.89*    4.36*    4.70*    4.98*    5.20*    5.32*    0.284 \n",
      "CNF            27.70*   27.70*   27.70*   27.70*   27.70*   27.70*   -0.000\n",
      "CDM            10.14*   10.14*   10.14*   10.14*   10.14*   10.16*   0.003 \n",
      "ground truth   0.240    0.240    0.280    0.320    0.360    0.400    0.034 \n",
      "\n",
      "Latextable Output:\n",
      "\\begin{table}\n",
      "\t\\begin{center}\n",
      "\t\t\\begin{tabular}{lccccccc}\n",
      "\t\t\t & $B_3$ & $B_4$ & $B_5$ & $B_6$ & $B_7$ & $B_8$ & slope \\\\\n",
      "\t\t\t\\hline\n",
      "\t\t\targmaxAR & 6.66* & 7.28* & 7.90* & 8.40* & 8.78* & 8.90* & 0.463 \\\\\n",
      "\t\t\tFCDM & 3.89* & 4.36* & 4.70* & 4.98* & 5.20* & 5.32* & 0.284 \\\\\n",
      "\t\t\tCNF & 27.70* & 27.70* & 27.70* & 27.70* & 27.70* & 27.70* & -0.000 \\\\\n",
      "\t\t\tCDM & 10.14* & 10.14* & 10.14* & 10.14* & 10.14* & 10.16* & 0.003 \\\\\n",
      "\t\t\tground truth & 0.240 & 0.240 & 0.280 & 0.320 & 0.360 & 0.400 & 0.034 \\\\\n",
      "\t\t\\end{tabular}\n",
      "\t\\end{center}\n",
      "\t\\caption{SHARP$\\Omega$=46656 m=100000 S:2}\n",
      "\t\\label{exp:GENSHARP_U:46656_m_per_splits:10000_splits:10_S:2_ratio:3}\n",
      "\\end{table}\n"
     ]
    }
   ],
   "source": [
    "\n",
    "rows = []\n",
    "index_next_q = 0\n",
    "for q_name in list_of_title_q:\n",
    "    values = []\n",
    "    index_next_q +=1\n",
    "   \n",
    "    if experiment == 'SYNTH':\n",
    "        \n",
    "        string_nll = float_to_print(np.mean(data['nll'][q_name])) \n",
    "        \n",
    "        if len(list_of_title_q)>index_next_q:\n",
    "                print(q_name, 'vs', list_of_title_q[index_next_q])\n",
    "                nll_next = data['nll'][list_of_title_q[index_next_q]]\n",
    "                nll = data['nll'][q_name]\n",
    "                test = scipy.stats.wilcoxon(nll, nll_next)\n",
    "                if test[1]<0.05 :\n",
    "                    string_nll = string_nll+\"*\"\n",
    "\n",
    "        values.append(string_nll)\n",
    "    float_val = []\n",
    "    for key, val in data['A'][q_name].items():\n",
    "        mean_val = np.mean(val)\n",
    "        float_val.append(mean_val)\n",
    "        string_val = float_to_print(mean_val*100, num_d=2)\n",
    "        \n",
    "        if len(list_of_title_q)>index_next_q:\n",
    "          \n",
    "            val_next = data['A'][list_of_title_q[index_next_q]][key]\n",
    "            \n",
    "            test = scipy.stats.wilcoxon(val, val_next)\n",
    "            if test[1]<0.05 :\n",
    "                string_val = string_val+\"*\"\n",
    "        values.append(string_val)\n",
    "    x = np.array(list(range(len(float_val))))\n",
    "    x = x.reshape(-1,1)\n",
    "    \n",
    "    reg = LinearRegression().fit(x, float_val)\n",
    "    values.append(reg.coef_*100)\n",
    "        \n",
    "    rows.append([format_name(q_name)] + values)\n",
    "top = [''] \n",
    "if experiment == 'SYNTH':\n",
    "    top.append('nll')\n",
    "for B in data['A'][q_name].keys():\n",
    "    top = top + ['$B_'+str(B)+'$']\n",
    "    #top = top + [ '$tv$']\n",
    "top.append('slope')\n",
    "print(rows)\n",
    "build_latex_table([top]+rows, caption=TYPE + '$\\Omega$=' +str(U)+ \" m=\"+ str( m_per_splits*splits)+ ' S:'+str(S), label=prefix)"
   ]
  },
  {
   "cell_type": "code",
   "execution_count": null,
   "id": "ede62034",
   "metadata": {},
   "outputs": [],
   "source": []
  },
  {
   "cell_type": "code",
   "execution_count": null,
   "id": "cb9e98b4",
   "metadata": {},
   "outputs": [],
   "source": []
  },
  {
   "cell_type": "code",
   "execution_count": null,
   "id": "da3f5702",
   "metadata": {},
   "outputs": [],
   "source": []
  }
 ],
 "metadata": {
  "kernelspec": {
   "display_name": "Python 3",
   "language": "python",
   "name": "python3"
  },
  "language_info": {
   "codemirror_mode": {
    "name": "ipython",
    "version": 3
   },
   "file_extension": ".py",
   "mimetype": "text/x-python",
   "name": "python",
   "nbconvert_exporter": "python",
   "pygments_lexer": "ipython3",
   "version": "3.9.5"
  }
 },
 "nbformat": 4,
 "nbformat_minor": 5
}
