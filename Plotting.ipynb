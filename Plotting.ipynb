{
 "cells": [
  {
   "cell_type": "code",
   "execution_count": 3,
   "id": "42534f43",
   "metadata": {},
   "outputs": [],
   "source": [
    "from matplotlib.ticker import MaxNLocator\n",
    "import matplotlib.pyplot as plt\n",
    "import numpy as np\n",
    "import matplotlib\n",
    "import matplotlib.colors as mcolors\n",
    "from scipy.stats import bootstrap\n",
    "import random as rd\n",
    "from file_helper import load_all_files\n",
    "# sketchy way of figuring out if latex is installed, might fail.\n",
    "# If it does, comment out\n",
    "from distutils.spawn import find_executable\n",
    "from itertools import cycle\n",
    "import os\n",
    "import pickle as pk\n"
   ]
  },
  {
   "cell_type": "code",
   "execution_count": null,
   "id": "0e87d646",
   "metadata": {},
   "outputs": [],
   "source": [
    "path_dir = 'results'\n",
    "list_files = load_all_files(path_dir)\n",
    "print(list_files)\n",
    "for file in list_files:\n",
    "    file_name = file.split('.')[0]\n",
    "    if 'binning' in file_name:\n",
    "        print(file_name)\n",
    "        with open(os.path.join(path_dir, file), 'rb') as f:  # load the data\n",
    "                data = pk.load(f)"
   ]
  },
  {
   "cell_type": "code",
   "execution_count": 5,
   "id": "7bee05f2",
   "metadata": {},
   "outputs": [
    {
     "data": {
      "text/plain": [
       "['argmaxAR', 'FCDM', 'transformer', 'ground truth']"
      ]
     },
     "execution_count": 5,
     "metadata": {},
     "output_type": "execute_result"
    }
   ],
   "source": [
    "baseline_name = list(data['data'].keys())\n",
    "baseline_name"
   ]
  },
  {
   "cell_type": "code",
   "execution_count": 14,
   "id": "a3379fce",
   "metadata": {},
   "outputs": [
    {
     "data": {
      "text/plain": [
       "[{'p': [0.74716765874526, 0.0028323412698408935, 0.24960413912009188, 0],\n",
       "  'q': [0, 0.6867999999999409, 0, 0.025500000000074463]},\n",
       " {'p': [0.7471978340098131, 0.002802166005290644, 0.24959587192432392, 0],\n",
       "  'q': [0, 0.6790999999999416, 0, 0.027500000000074354]}]"
      ]
     },
     "execution_count": 14,
     "metadata": {},
     "output_type": "execute_result"
    }
   ],
   "source": [
    "data['data'][baseline_name[1]][1]"
   ]
  },
  {
   "cell_type": "code",
   "execution_count": null,
   "id": "fbc76b11",
   "metadata": {},
   "outputs": [],
   "source": [
    "\n",
    "        "
   ]
  },
  {
   "cell_type": "code",
   "execution_count": null,
   "id": "0bbc0750",
   "metadata": {},
   "outputs": [],
   "source": [
    "\n"
   ]
  },
  {
   "cell_type": "code",
   "execution_count": null,
   "id": "4e965395",
   "metadata": {},
   "outputs": [],
   "source": []
  },
  {
   "cell_type": "code",
   "execution_count": null,
   "id": "91685906",
   "metadata": {},
   "outputs": [],
   "source": []
  },
  {
   "cell_type": "code",
   "execution_count": null,
   "id": "50623506",
   "metadata": {},
   "outputs": [],
   "source": []
  },
  {
   "cell_type": "code",
   "execution_count": null,
   "id": "2041fb6f",
   "metadata": {},
   "outputs": [],
   "source": []
  }
 ],
 "metadata": {
  "kernelspec": {
   "display_name": "Python 3",
   "language": "python",
   "name": "python3"
  },
  "language_info": {
   "codemirror_mode": {
    "name": "ipython",
    "version": 3
   },
   "file_extension": ".py",
   "mimetype": "text/x-python",
   "name": "python",
   "nbconvert_exporter": "python",
   "pygments_lexer": "ipython3",
   "version": "3.9.5"
  }
 },
 "nbformat": 4,
 "nbformat_minor": 5
}
