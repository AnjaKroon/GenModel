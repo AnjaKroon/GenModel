{
 "cells": [
  {
   "cell_type": "code",
   "execution_count": 12,
   "id": "42534f43",
   "metadata": {},
   "outputs": [],
   "source": [
    "from matplotlib.ticker import MaxNLocator\n",
    "import matplotlib.pyplot as plt\n",
    "import numpy as np\n",
    "import matplotlib\n",
    "import matplotlib.colors as mcolors\n",
    "from scipy.stats import bootstrap\n",
    "import random as rd\n",
    "from file_helper import load_all_files\n",
    "from distutils.spawn import find_executable\n",
    "from itertools import cycle\n",
    "import os\n",
    "import pickle as pk\n",
    "from statistic.generate_statistics import genSstat, get_ranking_results, reject_if_bad_test\n",
    "from plotting import plot_stat, put_plot_rank, get_color"
   ]
  },
  {
   "cell_type": "code",
   "execution_count": 14,
   "id": "0e87d646",
   "metadata": {},
   "outputs": [
    {
     "name": "stdout",
     "output_type": "stream",
     "text": [
      "GEN_46656_10000_10_2_3_binning\n",
      "['GEN_46656_10000_10_2_3_ranking.pk', 'GEN_46656_10000_10_2_3_hypothesis_algo.pk', 'GEN_46656_10000_10_2_3_S_algo.pk', 'GEN_46656_10000_10_2_3_binning_algo.pk']\n",
      "found\n"
     ]
    }
   ],
   "source": [
    "path_dir = 'results'\n",
    "base =6\n",
    "power_base = base\n",
    "list_files = load_all_files(path_dir)\n",
    "file_to_load = 'GEN_'+str(base**base)+'_10000_10_2_3_binning'\n",
    "print(file_to_load)\n",
    "print(list_files)\n",
    "for file in list_files:\n",
    "    file_name = file.split('.')[0]\n",
    "    if file_to_load in file_name:\n",
    "        print('found')\n",
    "        with open(os.path.join(path_dir, file), 'rb') as f:  # load the data\n",
    "                data = pk.load(f)\n",
    "                data = data['data']"
   ]
  },
  {
   "cell_type": "code",
   "execution_count": 33,
   "id": "7bee05f2",
   "metadata": {},
   "outputs": [
    {
     "name": "stdout",
     "output_type": "stream",
     "text": [
      "[{'p': [0.3749999999999993, 0.12499999999999968, 0], 'q': [0.37559999999999993, 0.1658000000000002, 0.007099999999999662]}, {'p': [0.3749999999999993, 0.12499999999999968, 0], 'q': [0.38080000000000025, 0.15470000000000014, 0.007699999999999263]}, {'p': [0.3749999999999993, 0.12499999999999968, 0], 'q': [0.37480000000000013, 0.16400000000000006, 0.008099999999999441]}, {'p': [0.3749999999999993, 0.12499999999999968, 0], 'q': [0.36929999999999996, 0.15680000000000022, 0.009199999999999542]}, {'p': [0.24999999999999972, 0.24999999999999925, 0], 'q': [0.25489999999999996, 0.28640000000000004, 0.009399999999999853]}, {'p': [0.3749999999999993, 0.12499999999999968, 0], 'q': [0.38520000000000026, 0.1611000000000001, 0.008499999999999175]}, {'p': [0.3749999999999993, 0.12499999999999968, 0], 'q': [0.3750000000000002, 0.15840000000000012, 0.008699999999999486]}, {'p': [0.3749999999999993, 0.12499999999999968, 0], 'q': [0.3813, 0.16500000000000006, 0.006099999999999772]}, {'p': [0.749999999999998, 0.08333333333333316, 0], 'q': [0.7124, 0.10550000000000005, 0.008399999999999741]}, {'p': [0.749999999999998, 0.08333333333333316, 0], 'q': [0.7083999999999995, 0.1131000000000001, 0.007300000000000417]}]\n"
     ]
    },
    {
     "ename": "KeyError",
     "evalue": "'F'",
     "output_type": "error",
     "traceback": [
      "\u001b[0;31m---------------------------------------------------------------------------\u001b[0m",
      "\u001b[0;31mKeyError\u001b[0m                                  Traceback (most recent call last)",
      "Cell \u001b[0;32mIn[33], line 3\u001b[0m\n\u001b[1;32m      1\u001b[0m list_of_title_q \u001b[38;5;241m=\u001b[39m \u001b[38;5;28mlist\u001b[39m(data\u001b[38;5;241m.\u001b[39mkeys())\n\u001b[1;32m      2\u001b[0m \u001b[38;5;28mprint\u001b[39m(data[list_of_title_q[\u001b[38;5;241m0\u001b[39m]][\u001b[38;5;241m0\u001b[39m])\n\u001b[0;32m----> 3\u001b[0m Bs \u001b[38;5;241m=\u001b[39m [\u001b[38;5;28mlen\u001b[39m(p) \u001b[38;5;28;01mfor\u001b[39;00m p[\u001b[38;5;124m'\u001b[39m\u001b[38;5;124mp\u001b[39m\u001b[38;5;124m'\u001b[39m] \u001b[38;5;129;01min\u001b[39;00m \u001b[43mdata\u001b[49m\u001b[43m[\u001b[49m\u001b[43mlist_of_title_q\u001b[49m\u001b[43m[\u001b[49m\u001b[38;5;241;43m0\u001b[39;49m\u001b[43m]\u001b[49m\u001b[43m[\u001b[49m\u001b[38;5;241;43m0\u001b[39;49m\u001b[43m]\u001b[49m\u001b[43m]\u001b[49m]\n\u001b[1;32m      5\u001b[0m m \u001b[38;5;241m=\u001b[39m \u001b[38;5;241m10000\u001b[39m\n\u001b[1;32m      8\u001b[0m store_results_algo \u001b[38;5;241m=\u001b[39m {}\n",
      "\u001b[0;31mKeyError\u001b[0m: 'F'"
     ]
    }
   ],
   "source": [
    "list_of_title_q = list(data.keys())\n",
    "print(data[list_of_title_q[0]][0])\n",
    "Bs = [len(p) for p['p'] in data[list_of_title_q[0][0]]]\n",
    "\n",
    "m = 10000\n",
    "\n",
    "\n",
    "store_results_algo = {}\n",
    "store_results_random = {}\n",
    "store_results_ranking = {'algo': [], 'random': []}\n",
    "metrics = ['S', 'test', 'binning', 'A']\n",
    "for metric in metrics:\n",
    "    store_results_algo[metric] = {}\n",
    "    store_results_random[metric] = {}\n",
    "    for title in list_of_title_q:\n",
    "        store_results_algo[metric][title] = []\n",
    "        store_results_random[metric][title] = []"
   ]
  },
  {
   "cell_type": "code",
   "execution_count": 27,
   "id": "9d68a0d0",
   "metadata": {},
   "outputs": [
    {
     "data": {
      "text/plain": [
       "{'algo': [], 'random': []}"
      ]
     },
     "execution_count": 27,
     "metadata": {},
     "output_type": "execute_result"
    }
   ],
   "source": [
    "store_results_ranking"
   ]
  },
  {
   "cell_type": "code",
   "execution_count": 22,
   "id": "a3379fce",
   "metadata": {},
   "outputs": [
    {
     "name": "stdout",
     "output_type": "stream",
     "text": [
      "0.05\n",
      "FCDM\n",
      "[0, 0, 0, 0, 0, 0, 0, 0, 0, 0]\n",
      "argmaxAR\n",
      "[0, 0, 0, 0, 0, 0, 0, 0, 0, 0]\n",
      "transformer\n",
      "[0, 0, 1, 0, 0, 0, 0, 0, 0, 0]\n",
      "CNF\n",
      "[0, 0, 0, 0, 0, 0, 0, 0, 0, 0]\n",
      "CDM\n",
      "[0, 0, 0, 0, 0, 0, 0, 0, 0, 0]\n",
      "ground truth\n",
      "[1, 1, 1, 1, 1, 1, 1, 1, 1, 1]\n",
      "FCDM\n",
      "[0, 0, 0, 0, 0, 0, 0, 0, 0, 0]\n",
      "argmaxAR\n",
      "[0, 0, 0, 0, 0, 0, 0, 0, 0, 0]\n",
      "transformer\n",
      "[0, 0, 0, 0, 0, 0, 0, 0, 0, 0]\n",
      "CNF\n",
      "[0, 0, 0, 0, 0, 0, 0, 0, 0, 0]\n",
      "CDM\n",
      "[0, 0, 0, 0, 0, 0, 0, 0, 0, 0]\n",
      "ground truth\n",
      "[1, 1, 1, 1, 1, 1, 1, 1, 1, 1]\n",
      "FCDM\n",
      "[0, 0, 0, 0, 0, 0, 0, 0, 0, 0]\n",
      "argmaxAR\n",
      "[0, 0, 0, 0, 0, 0, 0, 0, 0, 0]\n",
      "transformer\n",
      "[0, 0, 0, 0, 0, 0, 0, 0, 0, 0]\n",
      "CNF\n",
      "[0, 0, 0, 0, 0, 0, 0, 0, 0, 0]\n",
      "CDM\n",
      "[0, 0, 0, 0, 0, 0, 0, 0, 0, 0]\n",
      "ground truth\n",
      "[1, 1, 1, 1, 1, 1, 1, 0, 1, 0]\n",
      "FCDM\n",
      "[0, 0, 0, 0, 0, 0, 0, 0, 0, 0]\n",
      "argmaxAR\n",
      "[0, 0, 0, 0, 0, 0, 0, 0, 0, 0]\n",
      "transformer\n",
      "[0, 0, 0, 0, 0, 0, 0, 0, 0, 0]\n",
      "CNF\n",
      "[0, 0, 0, 0, 0, 0, 0, 0, 0, 0]\n",
      "CDM\n",
      "[0, 0, 0, 0, 0, 0, 0, 0, 0, 0]\n",
      "ground truth\n",
      "[1, 1, 1, 1, 1, 1, 1, 1, 1, 1]\n"
     ]
    }
   ],
   "source": [
    "test_epsilon = 0.05\n",
    "print(test_epsilon)\n",
    "delta = 1/3\n",
    "for b in range(4):  # For each bin granularity\n",
    "    for i, q_name in enumerate(list_of_title_q):\n",
    "        print(q_name)\n",
    "        list_binned_algo = data[q_name][b]\n",
    "        \n",
    "        test_algo = [1-reject_if_bad_test(\n",
    "                    trial['p'], trial['q'], m, epsilon=test_epsilon, delta=delta)[0] for trial in list_binned_algo]\n",
    "        print(test_algo)\n",
    "        A = [np.sqrt(reject_if_bad_test(\n",
    "                    trial['p'], trial['q'], m, epsilon=test_epsilon, delta=delta)[1]) for trial in list_binned_algo]\n",
    "        \n",
    "        store_results_algo['test'][q_name].append(test_algo)\n",
    "        store_results_algo['A'][q_name].append(A)\n",
    "\n",
    "plot_data={'x': Bs, 'data': store_results_algo['test']}"
   ]
  },
  {
   "cell_type": "code",
   "execution_count": 23,
   "id": "9e8f9ded",
   "metadata": {},
   "outputs": [
    {
     "data": {
      "text/plain": [
       "['FCDM', 'argmaxAR', 'transformer', 'CNF', 'CDM', 'ground truth']"
      ]
     },
     "execution_count": 23,
     "metadata": {},
     "output_type": "execute_result"
    }
   ],
   "source": [
    "list_of_title_q"
   ]
  },
  {
   "cell_type": "code",
   "execution_count": 24,
   "id": "2deee5b3",
   "metadata": {},
   "outputs": [
    {
     "name": "stdout",
     "output_type": "stream",
     "text": [
      "FCDM 0.1967443639990918 +/- 0.025\n",
      "FCDM 0.20086553050113087 +/- 0.025\n",
      "FCDM 0.2150504011516789 +/- 0.025\n",
      "FCDM 0.21375838320210097 +/- 0.025\n",
      "FCDM 0.1967443639990918 +/- 0.025\n",
      "FCDM 0.20086553050113087 +/- 0.025\n",
      "FCDM 0.2150504011516789 +/- 0.025\n",
      "FCDM 0.21375838320210097 +/- 0.025\n",
      "argmaxAR 0.27085349135566816 +/- 0.025\n",
      "argmaxAR 0.27793485058703615 +/- 0.025\n",
      "argmaxAR 0.28518515780906506 +/- 0.025\n",
      "argmaxAR 0.27722394941320794 +/- 0.025\n",
      "argmaxAR 0.27085349135566816 +/- 0.025\n",
      "argmaxAR 0.27793485058703615 +/- 0.025\n",
      "argmaxAR 0.28518515780906506 +/- 0.025\n",
      "argmaxAR 0.27722394941320794 +/- 0.025\n",
      "CNF 0.465315839260868 +/- 0.025\n",
      "CNF 0.4482905703219984 +/- 0.025\n",
      "CNF 0.44252166718341046 +/- 0.025\n",
      "CNF 0.43131647544386686 +/- 0.025\n",
      "CNF 0.465315839260868 +/- 0.025\n",
      "CNF 0.4482905703219984 +/- 0.025\n",
      "CNF 0.44252166718341046 +/- 0.025\n",
      "CNF 0.43131647544386686 +/- 0.025\n",
      "CDM 0.2746579271674759 +/- 0.025\n",
      "CDM 0.2906778401211182 +/- 0.025\n",
      "CDM 0.2936956742091648 +/- 0.025\n",
      "CDM 0.29657829807527625 +/- 0.025\n",
      "CDM 0.2746579271674759 +/- 0.025\n",
      "CDM 0.2906778401211182 +/- 0.025\n",
      "CDM 0.2936956742091648 +/- 0.025\n",
      "CDM 0.29657829807527625 +/- 0.025\n",
      "ground truth 0.029783597794614862 +/- 0.025\n",
      "ground truth 0.03508209191049405 +/- 0.025\n",
      "ground truth 0.04851419795052555 +/- 0.025\n",
      "ground truth 0.041591472882672814 +/- 0.025\n",
      "ground truth 0.029783597794614862 +/- 0.025\n",
      "ground truth 0.03508209191049405 +/- 0.025\n",
      "ground truth 0.04851419795052555 +/- 0.025\n",
      "ground truth 0.041591472882672814 +/- 0.025\n"
     ]
    },
    {
     "data": {
      "image/png": "[encoded data removed]",
      "text/plain": [
       "<Figure size 640x480 with 1 Axes>"
      ]
     },
     "metadata": {},
     "output_type": "display_data"
    }
   ],
   "source": [
    "plt.close()\n",
    "q_index = 1\n",
    "max_val = 0\n",
    "for q_name in list_of_title_q:\n",
    "    if q_name != 'transformer':\n",
    "        A_B_trials = store_results_algo['A'][q_name]\n",
    "        for i, A_trials in enumerate(A_B_trials):\n",
    "\n",
    "\n",
    "            print(q_name, np.mean(A_trials), '+/-', test_epsilon/2)\n",
    "            x = [np.mean(A_trials)]\n",
    "            y = [q_index+i*0.05]\n",
    "            errors = [test_epsilon]\n",
    "            plt.errorbar(x, y, xerr=errors, fmt = 'o', color=get_color(i))\n",
    "            upper = np.mean(A_trials) + test_epsilon\n",
    "            if upper > max_val:\n",
    "                max_val = upper\n",
    "        q_index+=1\n",
    "\n",
    "trimed_list_index = [q_name for q_name in list_of_title_q if q_name!='transformer']\n",
    "\n",
    "y_positions = [i for i in range(q_index+1)]\n",
    "plt.yticks(y_positions, ['']+trimed_list_index+['']) \n",
    "plt.xlim((0,max_val))\n",
    "plt.xlabel('A')\n",
    "plt.show()\n",
    "# plt.savefig(file_to_load+'A.pdf')\n",
    "plt.close()"
   ]
  },
  {
   "cell_type": "code",
   "execution_count": 12,
   "id": "b38ab3d5",
   "metadata": {},
   "outputs": [
    {
     "data": {
      "text/plain": [
       "{'no temper (uniform)': [[1, 1, 1, 1, 1, 1, 1, 1, 1, 1],\n",
       "  [1, 1, 1, 1, 1, 1, 1, 1, 1, 1],\n",
       "  [1, 1, 1, 1, 1, 1, 1, 1, 1, 1],\n",
       "  [1, 1, 1, 1, 1, 1, 1, 1, 1, 1],\n",
       "  [1, 1, 1, 1, 1, 1, 1, 1, 1, 1],\n",
       "  [1, 1, 1, 1, 1, 1, 1, 1, 1, 1],\n",
       "  [1, 1, 1, 1, 1, 1, 1, 1, 1, 1],\n",
       "  [1, 1, 1, 1, 1, 1, 1, 1, 1, 1]],\n",
       " 'slightly tempered': [[1, 1, 1, 1, 1, 1, 1, 1, 1, 1],\n",
       "  [1, 1, 1, 1, 1, 1, 1, 1, 1, 1],\n",
       "  [1, 1, 1, 1, 1, 1, 1, 1, 1, 1],\n",
       "  [1, 1, 1, 1, 1, 1, 1, 1, 1, 1],\n",
       "  [1, 1, 1, 1, 1, 1, 1, 1, 1, 1],\n",
       "  [1, 1, 1, 1, 1, 1, 1, 1, 1, 1],\n",
       "  [1, 1, 1, 1, 1, 1, 1, 1, 1, 1],\n",
       "  [1, 1, 1, 1, 1, 1, 1, 1, 1, 1]],\n",
       " 'medium tempered': [[1, 1, 1, 1, 1, 1, 1, 1, 1, 1],\n",
       "  [1, 1, 1, 1, 1, 1, 1, 1, 1, 1],\n",
       "  [1, 1, 1, 1, 1, 1, 1, 1, 1, 1],\n",
       "  [1, 1, 1, 1, 1, 1, 1, 1, 1, 1],\n",
       "  [1, 1, 1, 1, 1, 1, 1, 1, 1, 1],\n",
       "  [1, 1, 1, 1, 1, 1, 1, 1, 1, 1],\n",
       "  [1, 1, 1, 1, 1, 1, 1, 1, 1, 1],\n",
       "  [1, 1, 1, 1, 1, 1, 1, 1, 1, 1]],\n",
       " 'heavily tempered': [[1, 0, 1, 1, 1, 1, 1, 1, 1, 1],\n",
       "  [1, 0, 1, 1, 0, 0, 0, 0, 1, 1],\n",
       "  [1, 0, 0, 1, 1, 0, 0, 0, 1, 0],\n",
       "  [1, 0, 1, 0, 0, 0, 0, 0, 1, 0],\n",
       "  [0, 0, 0, 0, 0, 0, 0, 0, 1, 0],\n",
       "  [0, 0, 0, 0, 0, 0, 0, 0, 0, 0],\n",
       "  [0, 0, 0, 0, 0, 0, 0, 0, 0, 0],\n",
       "  [0, 0, 0, 0, 0, 0, 0, 0, 0, 0]]}"
      ]
     },
     "execution_count": 12,
     "metadata": {},
     "output_type": "execute_result"
    }
   ],
   "source": [
    "plot_data['data']"
   ]
  },
  {
   "cell_type": "code",
   "execution_count": 13,
   "id": "fbc76b11",
   "metadata": {},
   "outputs": [
    {
     "data": {
      "image/png": "[encoded data removed]",
      "text/plain": [
       "<Figure size 432x288 with 1 Axes>"
      ]
     },
     "metadata": {
      "needs_background": "light"
     },
     "output_type": "display_data"
    }
   ],
   "source": [
    "plt.close()\n",
    "put_plot_rank(None, plot_data['x'], plot_data['data'])\n",
    "#plot_stat(os.path.join('figures',str(test_epsilon)+file_name+'.pdf'), 'Bins' , 'algo')\n",
    "plt.show()\n",
    "# plt.close()"
   ]
  },
  {
   "cell_type": "code",
   "execution_count": 5,
   "id": "0bbc0750",
   "metadata": {
    "scrolled": true
   },
   "outputs": [
    {
     "name": "stdout",
     "output_type": "stream",
     "text": [
      "You are running the generative model experiment...\n",
      "for this round m is  10000\n",
      "and U is  46656\n",
      "should_be_one 1.000000000000002\n",
      "should_be_one 1.0000000000000022\n",
      "should_be_one 1.000000000000002\n",
      "should_be_one 1.000000000000002\n",
      "should_be_one 1.000000000000002\n"
     ]
    }
   ],
   "source": [
    "\n",
    "import math\n",
    "import os\n",
    "from tqdm import tqdm\n",
    "from sampling.discrete import makeUniProbArr, prob_array_to_dict\n",
    "from file_helper import create_prefix_from_list, load_samples, store_for_plotting\n",
    "from sampling.loading_samples import load_generative_model_samples\n",
    "from sampling.stair import make_stair_prob\n",
    "from statistic.binning_algo import binning_on_samples\n",
    "import numpy as np\n",
    "import random\n",
    "from statistic.generate_statistics import genSstat, get_ranking_results, reject_if_bad_test\n",
    "\n",
    "np.random.seed(3)\n",
    "random.seed(3)\n",
    "experiment = \"GEN\"  # either SYNTH or GEN\n",
    "test_epsilon = 0.20\n",
    "delta = 0.05\n",
    "compute_random = False\n",
    "if experiment == \"SYNTH\":  # if we generate q ourselves\n",
    "    print('You are running the synthetic experiment...')\n",
    "\n",
    "    power_base = 6\n",
    "    list_U = [power_base**power_base]\n",
    "    list_M = [10000]\n",
    "    init_e = 0.1\n",
    "    init_b = 30\n",
    "    trials = 2\n",
    "    S = 3\n",
    "    ratio = 2\n",
    "    distribution_type = 'STAIRS'  # STAIRS\n",
    "\n",
    "    #list_of_espilon_q = [0, init_e, init_e*1.5, init_e*2]\n",
    "    list_of_espilon_q = [0]\n",
    "    # list_of_title_q = [\n",
    "    #     'no temper (uniform)', 'slightly tempered', 'medium tempered', 'heavily tempered']\n",
    "    list_of_title_q = ['no temper (uniform)']\n",
    "else:  # if we take q as the generative models we have, we load the samples.\n",
    "    print('You are running the generative model experiment...')\n",
    "    power_base = 6\n",
    "    list_U = [power_base**power_base]\n",
    "    list_M = [10000]\n",
    "    S = 2\n",
    "    ratio = 3\n",
    "    trials = 10\n",
    "\n",
    "Bs = list(range(S+1, 2*(S+1)+1))\n",
    "list_of_binning_algo = ['algo', 'random']\n",
    "\n",
    "m = list_M[0]\n",
    "print(\"for this round m is \", m)\n",
    "U = list_U[0] \n",
    "print(\"and U is \", U)\n",
    "prefix = create_prefix_from_list([experiment, U, m, trials, S, ratio])\n",
    "if experiment == \"SYNTH\":\n",
    "    if distribution_type == 'UNIFORM':\n",
    "        ground_truth_p = prob_array_to_dict(makeUniProbArr(U))\n",
    "\n",
    "    elif distribution_type == 'STAIRS':\n",
    "        ground_truth_p = make_stair_prob(\n",
    "            U, posU=(math.factorial(power_base)/U), ratio=ratio,  S=S)\n",
    "\n",
    "    else:\n",
    "        raise NotImplemented\n",
    "    list_of_samples = load_samples(\n",
    "        list_of_espilon_q, init_b, ground_truth_p, trials, U, m, S, ratio)\n",
    "else:\n",
    "    dict_of_samples, ground_truth_p = load_generative_model_samples(\n",
    "        power_base, num_files=trials, m=10000, using_max=True)\n",
    "    list_of_samples = [val for _, val in dict_of_samples.items()]\n",
    "    list_of_title_q = [key for key, _ in dict_of_samples.items()]"
   ]
  },
  {
   "cell_type": "code",
   "execution_count": 6,
   "id": "4e965395",
   "metadata": {},
   "outputs": [
    {
     "name": "stdout",
     "output_type": "stream",
     "text": [
      "6\n",
      "['FCDM', 'argmaxAR', 'transformer', 'CNF', 'CDM', 'ground truth']\n"
     ]
    }
   ],
   "source": [
    "print(len(list_of_samples))\n",
    "print(list_of_title_q)"
   ]
  },
  {
   "cell_type": "code",
   "execution_count": 9,
   "id": "91685906",
   "metadata": {},
   "outputs": [],
   "source": [
    "C = int(math.factorial(power_base)/2)\n",
    "# for i in range(len(list_of_samples)):\n",
    "#     samples_of_model = list_of_samples[i]\n",
    "#     first_trial_of_model = samples_of_model[0]\n",
    "    \n",
    "#     xs = list(first_trial_of_model.keys())\n",
    "#     ys= list(first_trial_of_model.values())\n",
    "\n",
    "#     plt.plot(xs, ys, 'o', label=list_of_title_q[i])\n",
    "# plt.legend()\n",
    "# plt.show()\n",
    "# plt.close()\n",
    "\n",
    "\n",
    "for i in range(len(list_of_samples)-1):\n",
    "    if i !=list_of_title_q.index('transformer'):\n",
    "        samples_of_model = list_of_samples[i]\n",
    "        first_trial_of_model = samples_of_model[0]\n",
    "\n",
    "        xs = list(first_trial_of_model.keys())\n",
    "        ys= list(first_trial_of_model.values())\n",
    "\n",
    "        only_pos_x = [x for x in xs if x< math.factorial(power_base)]\n",
    "        only_pos_y = [ys[i] for i in range(len(ys)) if xs[i]< math.factorial(power_base)]\n",
    "\n",
    "        \n",
    "        plt.plot(only_pos_x, only_pos_y, 'o', markersize=1,label=list_of_title_q[i])\n",
    "gt_x1 = list(range(C))\n",
    "gt_y1 = [3/(2*math.factorial(power_base)) for _ in gt_x1]\n",
    "\n",
    "\n",
    "gt_y2 = [1/(2*math.factorial(power_base)) for _ in gt_x1]\n",
    "\n",
    "plt.plot(range(C*2), gt_y1+gt_y2,label='ground truth')\n",
    "plt.legend()\n",
    "plt.ylabel('p(x)')\n",
    "plt.xlabel('x')\n",
    "plt.savefig('unsorted.pdf')\n",
    "plt.close()"
   ]
  },
  {
   "cell_type": "code",
   "execution_count": 10,
   "id": "50623506",
   "metadata": {},
   "outputs": [
    {
     "name": "stdout",
     "output_type": "stream",
     "text": [
      "1.000000000000002\n",
      "1.000000000000002\n",
      "1.000000000000002\n",
      "1.000000000000002\n"
     ]
    }
   ],
   "source": [
    "C = int(math.factorial(power_base)/2)\n",
    "for i in range(len(list_of_samples)-1):\n",
    "    if i !=list_of_title_q.index('transformer'):\n",
    "        samples_of_model = list_of_samples[i]\n",
    "        first_trial_of_model = samples_of_model[0]\n",
    "\n",
    "        xs = list(first_trial_of_model.keys())\n",
    "        ys= list(first_trial_of_model.values())\n",
    "        print(np.sum(ys))\n",
    "        only_pos_x_1 = [x for x in xs if x< math.factorial(power_base)/2]\n",
    "        only_pos_y_1 = [ys[i] for i in range(len(ys)) if xs[i]< math.factorial(power_base)/2]\n",
    "        sorting_1 = np.argsort(only_pos_y_1)\n",
    "        only_pos_y_1 = np.array(only_pos_y_1)[sorting_1]\n",
    "        only_pos_x_1.sort()\n",
    "        only_pos_y_1 = list(only_pos_y_1)\n",
    "        only_pos_y_1.reverse()\n",
    "\n",
    "        only_pos_x_2 = [x for x in xs if (x< math.factorial(power_base) and x>= math.factorial(power_base)/2)]\n",
    "        only_pos_y_2 = [ys[i] for i in range(len(ys)) if (xs[i]< math.factorial(power_base)and xs[i]>= math.factorial(power_base)/2)]\n",
    "        sorting_2 = np.argsort(only_pos_y_2)\n",
    "        only_pos_y_2 = np.array(only_pos_y_2)[sorting_2]\n",
    "        only_pos_x_2.sort()\n",
    "        only_pos_y_2 = list(only_pos_y_2)\n",
    "        only_pos_y_2.reverse()\n",
    "        # add zeros where needed\n",
    "        both_x = list(range(2*C))\n",
    "        if C-len(only_pos_y_1)>0:\n",
    "            zeros_1 = [0 for _ in range(C-len(only_pos_y_1))]\n",
    "            only_pos_y_1 = zeros_1+only_pos_y_1\n",
    "        if    C-len(only_pos_y_2)>0:      \n",
    "            zeros_2 = [0 for _ in range(C-len(only_pos_y_2))]\n",
    "            only_pos_y_2 = zeros_2+only_pos_y_2\n",
    "\n",
    "        both_y = list(only_pos_y_1)+list(only_pos_y_2)\n",
    "\n",
    "\n",
    "        plt.plot(both_x, both_y, linewidth=1, label=list_of_title_q[i])\n",
    "    \n",
    "#     only_zero_x = [x for x in xs if x>= math.factorial(power_base)/2]\n",
    "#     only_zero_y = [ys[i] for i in range(len(ys)) if xs[i]>= math.factorial(power_base)/2]\n",
    "#     print(np.sum(only_zero_y))\n",
    "gt_x1 = list(range(C))\n",
    "gt_y1 = [3/(2*math.factorial(power_base)) for _ in gt_x1]\n",
    "\n",
    "\n",
    "gt_y2 = [1/(2*math.factorial(power_base)) for _ in gt_x1]\n",
    "\n",
    "plt.plot(range(C*2), gt_y1+gt_y2,label='ground truth')\n",
    "plt.ylabel('p(x)')\n",
    "plt.xlabel('x')  \n",
    "plt.legend()\n",
    "plt.savefig('sorted.pdf')\n",
    "plt.close()"
   ]
  },
  {
   "cell_type": "code",
   "execution_count": 11,
   "id": "b5d4cf46",
   "metadata": {},
   "outputs": [
    {
     "name": "stdout",
     "output_type": "stream",
     "text": [
      "FCDM\n",
      "0.008050000000000002\n",
      "argmaxAR\n",
      "0.06321000000000003\n",
      "CNF\n",
      "0.05056000000000001\n",
      "CDM\n",
      "0.04666\n"
     ]
    }
   ],
   "source": [
    "C = int(math.factorial(power_base)/2)\n",
    "for i in range(len(list_of_samples)-1):\n",
    "    if i !=list_of_title_q.index('transformer'):\n",
    "        samples_of_model = list_of_samples[i]\n",
    "        first_trial_of_model = samples_of_model[0]\n",
    "\n",
    "        xs = list(first_trial_of_model.keys())\n",
    "        ys= list(first_trial_of_model.values())\n",
    "\n",
    "\n",
    "        only_pos_y_1 = [ys[i] for i in range(len(ys)) if xs[i]< math.factorial(power_base)/2]\n",
    "\n",
    "\n",
    "\n",
    "\n",
    "        only_pos_y_2 = [ys[i] for i in range(len(ys)) if (xs[i]< math.factorial(power_base)and xs[i]>= math.factorial(power_base)/2)]\n",
    "\n",
    "\n",
    "\n",
    "\n",
    "        only_zero_y = [ys[i] for i in range(len(ys)) if xs[i]>= math.factorial(power_base)]\n",
    "        print(list_of_title_q[i])\n",
    "        print(np.sum(only_zero_y))\n",
    "        both_x = [1,1.99,2,2.99,3,3.99]\n",
    "        p_1 = np.sum(only_pos_y_1)\n",
    "        p_2 = np.sum(only_pos_y_2)\n",
    "        p_3 = np.sum(only_zero_y)\n",
    "        both_y = [p_1,p_1, p_2,p_2,p_3,p_3 ]\n",
    "        plt.plot(both_x, both_y,label=list_of_title_q[i])\n",
    "    \n",
    "\n",
    "plt.plot([1,1.99,2,2.99,3,3.99], [0.75, 0.75,0.25,0.25,0,0],label='ground truth')\n",
    "plt.ylabel('p(x)')\n",
    "plt.xlabel('x')\n",
    "plt.xticks([])\n",
    "plt.legend()\n",
    "plt.savefig('bin.pdf')\n",
    "plt.close()"
   ]
  },
  {
   "cell_type": "code",
   "execution_count": 29,
   "id": "89d203ae",
   "metadata": {},
   "outputs": [],
   "source": [
    "import itertools\n",
    "import math\n",
    "def get_type(comb):\n",
    "    choices = {}\n",
    "    for x in comb:\n",
    "        if x not in choices:\n",
    "            choices[x] = 1\n",
    "        else:\n",
    "            return 'not a permutation'\n",
    "    if comb[0] < comb[-1]:\n",
    "        return 'likely'\n",
    "    else:\n",
    "        return 'rare'\n",
    "\n",
    "def get_converting_dict(base):\n",
    "    converting_dict = {}\n",
    "    x = []\n",
    "    y = []\n",
    "    i = 0\n",
    "    for comb in itertools.product(range(base), repeat=base):\n",
    "        comb_type = get_type(comb)\n",
    "        if comb_type == 'likely':\n",
    "            y.append(3/(2*(math.factorial(base))))\n",
    "        elif comb_type == 'rare':\n",
    "            y.append(1/(2*(math.factorial(base))))\n",
    "        else:\n",
    "            y.append(0)\n",
    "        x.append(i)\n",
    "        i+=1\n",
    "    return x,y"
   ]
  },
  {
   "cell_type": "code",
   "execution_count": 30,
   "id": "2f4fa60a",
   "metadata": {},
   "outputs": [],
   "source": [
    "x,y = get_converting_dict(6)"
   ]
  },
  {
   "cell_type": "code",
   "execution_count": 31,
   "id": "a9a6bca1",
   "metadata": {},
   "outputs": [
    {
     "data": {
      "image/png": "[encoded data removed]",
      "text/plain": [
       "<Figure size 432x288 with 1 Axes>"
      ]
     },
     "metadata": {
      "needs_background": "light"
     },
     "output_type": "display_data"
    }
   ],
   "source": [
    "plt.plot(x,y,linewidth=0.1)\n",
    "plt.ylabel('p(x)')\n",
    "plt.xlabel('x')\n",
    "plt.savefig('p.pdf')"
   ]
  },
  {
   "cell_type": "code",
   "execution_count": null,
   "id": "ede62034",
   "metadata": {},
   "outputs": [],
   "source": []
  }
 ],
 "metadata": {
  "kernelspec": {
   "display_name": "Python 3 (ipykernel)",
   "language": "python",
   "name": "python3"
  },
  "language_info": {
   "codemirror_mode": {
    "name": "ipython",
    "version": 3
   },
   "file_extension": ".py",
   "mimetype": "text/x-python",
   "name": "python",
   "nbconvert_exporter": "python",
   "pygments_lexer": "ipython3",
   "version": "3.9.5"
  }
 },
 "nbformat": 4,
 "nbformat_minor": 5
}
