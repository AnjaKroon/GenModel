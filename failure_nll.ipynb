{
 "cells": [
  {
   "cell_type": "code",
   "execution_count": 12,
   "id": "2cfb348e",
   "metadata": {},
   "outputs": [],
   "source": [
    "import matplotlib.pyplot as plt\n",
    "import numpy as np\n",
    "import matplotlib\n",
    "font = {'family' : 'normal',\n",
    "        'size'   : 15}\n",
    "\n",
    "matplotlib.rc('font', **font)"
   ]
  },
  {
   "cell_type": "code",
   "execution_count": 13,
   "id": "c8dab2e4",
   "metadata": {},
   "outputs": [
    {
     "name": "stdout",
     "output_type": "stream",
     "text": [
      "1.0000000000000002\n",
      "1.0\n",
      "1.0\n"
     ]
    }
   ],
   "source": [
    "# these values are working\n",
    "g_t = [0.4,0.2,0.2,0.05,0.05, 0.05, 0.05]\n",
    "print(np.sum(g_t))\n",
    "gen_model_1 = [0.45,0.235,0.25,0.02,0.015, 0.01, 0.02]\n",
    "print(np.sum(gen_model_1))\n",
    "gen_model_2 = [0.35,0.15,0.15,0.05,0.08, 0.07, 0.15]\n",
    "print(np.sum(gen_model_2))"
   ]
  },
  {
   "cell_type": "code",
   "execution_count": 24,
   "id": "c10cdf9a",
   "metadata": {},
   "outputs": [
    {
     "name": "stdout",
     "output_type": "stream",
     "text": [
      "1.0\n",
      "1.0\n",
      "1.0\n"
     ]
    }
   ],
   "source": [
    "g_t = [0.4,0.2,0.2,0.1,0.05, 0.05, 0]\n",
    "print(np.sum(g_t))\n",
    "gen_model_1 = [0.45,0.235,0.25,0.02,0.015, 0.01, 0.02]\n",
    "print(np.sum(gen_model_1))\n",
    "gen_model_2 = [0.35,0.15,0.15,0.05,0.08, 0.07, 0.15]\n",
    "print(np.sum(gen_model_2))"
   ]
  },
  {
   "cell_type": "code",
   "execution_count": 25,
   "id": "4571b96d",
   "metadata": {},
   "outputs": [],
   "source": [
    "def get_nll(p,q):\n",
    "    return -np.sum([np.log(q[i])*p[i] for i in range(len(q))])\n",
    "\n",
    "def get_tv(p,q):\n",
    "    return 0.5*np.sum([np.abs(q[i]-p[i]) for i in range(len(q))])"
   ]
  },
  {
   "cell_type": "code",
   "execution_count": 26,
   "id": "a5d6e555",
   "metadata": {},
   "outputs": [],
   "source": [
    "nll_1 = get_nll(g_t, gen_model_1)\n",
    "tv_1 = get_tv(g_t, gen_model_1)"
   ]
  },
  {
   "cell_type": "code",
   "execution_count": 27,
   "id": "fc21e2f8",
   "metadata": {},
   "outputs": [],
   "source": [
    "nll_2 = get_nll(g_t, gen_model_2)\n",
    "tv_2 = get_tv(g_t, gen_model_2)"
   ]
  },
  {
   "cell_type": "code",
   "execution_count": 32,
   "id": "ca21ca7c",
   "metadata": {},
   "outputs": [
    {
     "name": "stdout",
     "output_type": "stream",
     "text": [
      "1.7375995051712745\n",
      "1.7177419674148982\n",
      "False\n",
      "0.155\n",
      "0.2\n",
      "False\n"
     ]
    },
    {
     "data": {
      "image/png": "[encoded data removed]",
      "text/plain": [
       "<Figure size 432x288 with 1 Axes>"
      ]
     },
     "metadata": {
      "needs_background": "light"
     },
     "output_type": "display_data"
    }
   ],
   "source": [
    "print(nll_2)\n",
    "print(nll_1)\n",
    "print(nll_2< nll_1)\n",
    "print(tv_1)\n",
    "print(tv_2)\n",
    "print(tv_2< tv_1)\n",
    "a = 0.3\n",
    "\n",
    "plt.bar([(3*i) for i in range(len(g_t)) ],g_t,label='Ground truth')\n",
    "plt.bar([(3*i)+1 for i in range(len(g_t)) ],gen_model_1,alpha=a,label='NLL {:.3f}, TV {:.2f}*'.format(nll_1, tv_1))\n",
    "plt.bar([(3*i)+1.5 for i in range(len(g_t)) ],gen_model_2,alpha=a,label='NLL {:.3f}* TV {:.2f}'.format(nll_2, tv_2))\n",
    "\n",
    "plt.xlabel('x')\n",
    "plt.ylabel('p(x)')\n",
    "plt.xticks([])\n",
    "plt.legend()\n",
    "plt.savefig('example_nll.pdf')"
   ]
  },
  {
   "cell_type": "code",
   "execution_count": null,
   "id": "52a57a20",
   "metadata": {},
   "outputs": [],
   "source": []
  },
  {
   "cell_type": "code",
   "execution_count": null,
   "id": "ac6aae15",
   "metadata": {},
   "outputs": [],
   "source": []
  }
 ],
 "metadata": {
  "kernelspec": {
   "display_name": "Python 3",
   "language": "python",
   "name": "python3"
  },
  "language_info": {
   "codemirror_mode": {
    "name": "ipython",
    "version": 3
   },
   "file_extension": ".py",
   "mimetype": "text/x-python",
   "name": "python",
   "nbconvert_exporter": "python",
   "pygments_lexer": "ipython3",
   "version": "3.9.5"
  }
 },
 "nbformat": 4,
 "nbformat_minor": 5
}
