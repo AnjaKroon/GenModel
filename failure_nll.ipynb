{
 "cells": [
  {
   "cell_type": "code",
   "execution_count": 236,
   "id": "2cfb348e",
   "metadata": {},
   "outputs": [],
   "source": [
    "import matplotlib.pyplot as plt\n",
    "import numpy as np\n",
    "import matplotlib\n",
    "font = {'family' : 'normal',\n",
    "        'size'   : 16}\n",
    "\n",
    "matplotlib.rc('font', **font)"
   ]
  },
  {
   "cell_type": "code",
   "execution_count": 237,
   "id": "c8dab2e4",
   "metadata": {},
   "outputs": [
    {
     "name": "stdout",
     "output_type": "stream",
     "text": [
      "1.0000000000000002\n",
      "1.0\n",
      "1.0\n"
     ]
    }
   ],
   "source": [
    "g_t = [0.4,0.2,0.2,0.05,0.05, 0.05, 0.05]\n",
    "print(np.sum(g_t))\n",
    "gen_model_1 = [0.45,0.235,0.25,0.02,0.015, 0.01, 0.02]\n",
    "print(np.sum(gen_model_1))\n",
    "gen_model_2 = [0.35,0.15,0.15,0.05,0.08, 0.07, 0.15]\n",
    "print(np.sum(gen_model_2))"
   ]
  },
  {
   "cell_type": "code",
   "execution_count": 238,
   "id": "4571b96d",
   "metadata": {},
   "outputs": [],
   "source": [
    "def get_nll(p,q):\n",
    "    return -np.sum([np.log(q[i])*p[i] for i in range(len(q))])\n",
    "\n",
    "def get_tv(p,q):\n",
    "    return np.sum([np.abs(q[i]-p[i]) for i in range(len(q))])"
   ]
  },
  {
   "cell_type": "code",
   "execution_count": 239,
   "id": "a5d6e555",
   "metadata": {},
   "outputs": [],
   "source": [
    "nll_1 = get_nll(g_t, gen_model_1)\n",
    "tv_1 = get_tv(g_t, gen_model_1)"
   ]
  },
  {
   "cell_type": "code",
   "execution_count": 240,
   "id": "fc21e2f8",
   "metadata": {},
   "outputs": [],
   "source": [
    "nll_2 = get_nll(g_t, gen_model_2)\n",
    "tv_2 = get_tv(g_t, gen_model_2)"
   ]
  },
  {
   "cell_type": "code",
   "execution_count": 241,
   "id": "ca21ca7c",
   "metadata": {},
   "outputs": [
    {
     "name": "stderr",
     "output_type": "stream",
     "text": [
      "findfont: Font family ['normal'] not found. Falling back to DejaVu Sans.\n",
      "findfont: Font family ['normal'] not found. Falling back to DejaVu Sans.\n"
     ]
    },
    {
     "name": "stdout",
     "output_type": "stream",
     "text": [
      "1.682668890737869\n",
      "1.7177419674148977\n",
      "True\n",
      "0.26999999999999996\n",
      "0.30000000000000004\n",
      "False\n"
     ]
    },
    {
     "data": {
      "image/png": "[encoded data removed]",
      "text/plain": [
       "<Figure size 640x480 with 1 Axes>"
      ]
     },
     "metadata": {},
     "output_type": "display_data"
    }
   ],
   "source": [
    "print(nll_2)\n",
    "print(nll_1)\n",
    "print(nll_2< nll_1)\n",
    "print(tv_1)\n",
    "print(tv_2)\n",
    "print(tv_2< tv_1)\n",
    "a = 0.3\n",
    "# plt.plot([(3*i) for i in range(len(g_t)) ],g_t,label='Ground truth')\n",
    "# plt.plot([(3*i) for i in range(len(g_t)) ],gen_model_1,alpha=a,label='NLL {:.3f}'.format(nll_1))\n",
    "# plt.plot([(3*i) for i in range(len(g_t)) ],gen_model_2,alpha=a,label='NLL {:.3f}*'.format(nll_2))\n",
    "plt.bar([(3*i) for i in range(len(g_t)) ],g_t,label='Ground truth')\n",
    "plt.bar([(3*i)+1 for i in range(len(g_t)) ],gen_model_1,alpha=a,label='NLL {:.3f}'.format(nll_1))\n",
    "plt.bar([(3*i)+1.5 for i in range(len(g_t)) ],gen_model_2,alpha=a,label='NLL {:.3f}*'.format(nll_2))\n",
    "plt.xlabel('x')\n",
    "plt.ylabel('p(x)')\n",
    "plt.xticks([])\n",
    "plt.legend()\n",
    "plt.savefig('example_nll.pdf')"
   ]
  },
  {
   "cell_type": "code",
   "execution_count": null,
   "id": "52a57a20",
   "metadata": {},
   "outputs": [],
   "source": []
  },
  {
   "cell_type": "code",
   "execution_count": null,
   "id": "ac6aae15",
   "metadata": {},
   "outputs": [],
   "source": []
  }
 ],
 "metadata": {
  "kernelspec": {
   "display_name": "Python 3",
   "language": "python",
   "name": "python3"
  },
  "language_info": {
   "codemirror_mode": {
    "name": "ipython",
    "version": 3
   },
   "file_extension": ".py",
   "mimetype": "text/x-python",
   "name": "python",
   "nbconvert_exporter": "python",
   "pygments_lexer": "ipython3",
   "version": "3.9.5"
  }
 },
 "nbformat": 4,
 "nbformat_minor": 5
}
